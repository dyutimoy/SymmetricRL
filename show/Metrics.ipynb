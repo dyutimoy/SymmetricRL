{
 "cells": [
  {
   "cell_type": "code",
   "execution_count": null,
   "metadata": {},
   "outputs": [],
   "source": [
    "# for i in runs/*12__20*_w2_*/*/; do python -m playground.evaluate with experiment_dir=$i; done"
   ]
  },
  {
   "cell_type": "code",
   "execution_count": 154,
   "metadata": {},
   "outputs": [],
   "source": [
    "import pandas as pd\n",
    "import numpy as np\n",
    "import warnings\n",
    "import math\n",
    "import json\n",
    "import glob\n",
    "import csv\n",
    "import re\n",
    "import os\n",
    "\n",
    "import matplotlib.pyplot as plt\n",
    "%config InlineBackend.figure_formats = ['png']"
   ]
  },
  {
   "cell_type": "code",
   "execution_count": 138,
   "metadata": {},
   "outputs": [
    {
     "name": "stdout",
     "output_type": "stream",
     "text": [
      "[('../runs/2019_07_12__20_09_08__w2_base/4/', 'base'), ('../runs/2019_07_12__20_09_08__w2_base/2/', 'base')]\n"
     ]
    }
   ],
   "source": [
    "dirs = glob.glob(\"../runs/*12__20*_w2_*/*/\") + glob.glob(\"../runs/*00_00__w2*/*/\")\n",
    "names = [re.findall(\"w2.*_([^\\/]*)\", path)[0] for path in dirs]\n",
    "print(list(zip(dirs, names))[:2])"
   ]
  },
  {
   "cell_type": "code",
   "execution_count": 155,
   "metadata": {},
   "outputs": [],
   "source": [
    "def read_data(path, key):\n",
    "    try:\n",
    "        with open(os.path.join(path, \"evaluate.json\"), 'r') as jfile:\n",
    "            return pd.DataFrame(json.load(jfile), index=[key])\n",
    "    except:\n",
    "        warnings.warn(\"Path {} did not contain {}\".format(path, key))\n",
    "        return pd.DataFrame()"
   ]
  },
  {
   "cell_type": "code",
   "execution_count": 156,
   "metadata": {},
   "outputs": [
    {
     "data": {
      "text/html": [
       "<div>\n",
       "<style scoped>\n",
       "    .dataframe tbody tr th:only-of-type {\n",
       "        vertical-align: middle;\n",
       "    }\n",
       "\n",
       "    .dataframe tbody tr th {\n",
       "        vertical-align: top;\n",
       "    }\n",
       "\n",
       "    .dataframe thead th {\n",
       "        text-align: right;\n",
       "    }\n",
       "</style>\n",
       "<table border=\"1\" class=\"dataframe\">\n",
       "  <thead>\n",
       "    <tr style=\"text-align: right;\">\n",
       "      <th></th>\n",
       "      <th>torque</th>\n",
       "      <th>joint_angle</th>\n",
       "      <th>phase_plot_index</th>\n",
       "    </tr>\n",
       "  </thead>\n",
       "  <tbody>\n",
       "    <tr>\n",
       "      <th>traj</th>\n",
       "      <td>9.095857</td>\n",
       "      <td>11.666614</td>\n",
       "      <td>1.662307</td>\n",
       "    </tr>\n",
       "  </tbody>\n",
       "</table>\n",
       "</div>"
      ],
      "text/plain": [
       "        torque  joint_angle  phase_plot_index\n",
       "traj  9.095857    11.666614          1.662307"
      ]
     },
     "execution_count": 156,
     "metadata": {},
     "output_type": "execute_result"
    }
   ],
   "source": [
    "read_data(dirs[0], names[0])"
   ]
  },
  {
   "cell_type": "code",
   "execution_count": 157,
   "metadata": {},
   "outputs": [],
   "source": [
    "def read_column(paths, keys, column):\n",
    "    return pd.concat([read_data(path, key)[column] for path, key in zip(paths, keys)])"
   ]
  },
  {
   "cell_type": "code",
   "execution_count": 145,
   "metadata": {},
   "outputs": [
    {
     "data": {
      "text/html": [
       "<div>\n",
       "<style scoped>\n",
       "    .dataframe tbody tr th:only-of-type {\n",
       "        vertical-align: middle;\n",
       "    }\n",
       "\n",
       "    .dataframe tbody tr th {\n",
       "        vertical-align: top;\n",
       "    }\n",
       "\n",
       "    .dataframe thead th {\n",
       "        text-align: right;\n",
       "    }\n",
       "</style>\n",
       "<table border=\"1\" class=\"dataframe\">\n",
       "  <thead>\n",
       "    <tr style=\"text-align: right;\">\n",
       "      <th></th>\n",
       "      <th>joint_angle</th>\n",
       "      <th>torque</th>\n",
       "      <th>phase_plot_index</th>\n",
       "    </tr>\n",
       "  </thead>\n",
       "  <tbody>\n",
       "    <tr>\n",
       "      <th>traj</th>\n",
       "      <td>75.553406</td>\n",
       "      <td>100.033577</td>\n",
       "      <td>0.686236</td>\n",
       "    </tr>\n",
       "    <tr>\n",
       "      <th>traj</th>\n",
       "      <td>136.563675</td>\n",
       "      <td>127.209236</td>\n",
       "      <td>0.879469</td>\n",
       "    </tr>\n",
       "    <tr>\n",
       "      <th>traj</th>\n",
       "      <td>89.211906</td>\n",
       "      <td>86.919197</td>\n",
       "      <td>0.809494</td>\n",
       "    </tr>\n",
       "    <tr>\n",
       "      <th>traj</th>\n",
       "      <td>81.671509</td>\n",
       "      <td>119.114098</td>\n",
       "      <td>0.440142</td>\n",
       "    </tr>\n",
       "    <tr>\n",
       "      <th>traj</th>\n",
       "      <td>30.465807</td>\n",
       "      <td>49.403027</td>\n",
       "      <td>0.340340</td>\n",
       "    </tr>\n",
       "    <tr>\n",
       "      <th>net</th>\n",
       "      <td>13.599189</td>\n",
       "      <td>102.265465</td>\n",
       "      <td>0.129201</td>\n",
       "    </tr>\n",
       "  </tbody>\n",
       "</table>\n",
       "</div>"
      ],
      "text/plain": [
       "      joint_angle      torque  phase_plot_index\n",
       "traj    75.553406  100.033577          0.686236\n",
       "traj   136.563675  127.209236          0.879469\n",
       "traj    89.211906   86.919197          0.809494\n",
       "traj    81.671509  119.114098          0.440142\n",
       "traj    30.465807   49.403027          0.340340\n",
       "net     13.599189  102.265465          0.129201"
      ]
     },
     "execution_count": 145,
     "metadata": {},
     "output_type": "execute_result"
    }
   ],
   "source": [
    "read_column(dirs, names, [\"joint_angle\", \"torque\", \"phase_plot_index\"])[:6]"
   ]
  },
  {
   "cell_type": "code",
   "execution_count": 116,
   "metadata": {},
   "outputs": [
    {
     "data": {
      "text/html": [
       "<div>\n",
       "<style scoped>\n",
       "    .dataframe tbody tr th:only-of-type {\n",
       "        vertical-align: middle;\n",
       "    }\n",
       "\n",
       "    .dataframe tbody tr th {\n",
       "        vertical-align: top;\n",
       "    }\n",
       "\n",
       "    .dataframe thead th {\n",
       "        text-align: right;\n",
       "    }\n",
       "</style>\n",
       "<table border=\"1\" class=\"dataframe\">\n",
       "  <thead>\n",
       "    <tr style=\"text-align: right;\">\n",
       "      <th></th>\n",
       "      <th>joint_angle</th>\n",
       "      <th>torque</th>\n",
       "    </tr>\n",
       "  </thead>\n",
       "  <tbody>\n",
       "    <tr>\n",
       "      <th>base</th>\n",
       "      <td>61.351810</td>\n",
       "      <td>57.432961</td>\n",
       "    </tr>\n",
       "    <tr>\n",
       "      <th>loss</th>\n",
       "      <td>24.191665</td>\n",
       "      <td>35.844801</td>\n",
       "    </tr>\n",
       "    <tr>\n",
       "      <th>net</th>\n",
       "      <td>11.838698</td>\n",
       "      <td>19.327060</td>\n",
       "    </tr>\n",
       "    <tr>\n",
       "      <th>phase</th>\n",
       "      <td>33.349882</td>\n",
       "      <td>60.578687</td>\n",
       "    </tr>\n",
       "    <tr>\n",
       "      <th>traj</th>\n",
       "      <td>40.041370</td>\n",
       "      <td>44.563785</td>\n",
       "    </tr>\n",
       "    <tr>\n",
       "      <th>vnet-ablation</th>\n",
       "      <td>23.887738</td>\n",
       "      <td>33.803563</td>\n",
       "    </tr>\n",
       "  </tbody>\n",
       "</table>\n",
       "</div>"
      ],
      "text/plain": [
       "               joint_angle     torque\n",
       "base             61.351810  57.432961\n",
       "loss             24.191665  35.844801\n",
       "net              11.838698  19.327060\n",
       "phase            33.349882  60.578687\n",
       "traj             40.041370  44.563785\n",
       "vnet-ablation    23.887738  33.803563"
      ]
     },
     "execution_count": 116,
     "metadata": {},
     "output_type": "execute_result"
    }
   ],
   "source": [
    "read_column(dirs, names, [\"joint_angle\", \"torque\"]).groupby(level=0).mean()"
   ]
  },
  {
   "cell_type": "code",
   "execution_count": 55,
   "metadata": {},
   "outputs": [],
   "source": [
    "def compute_stats(xs, ys):\n",
    "    grouped = {}\n",
    "    for x, y in zip(xs, ys):\n",
    "        if not x in grouped:\n",
    "            grouped[x] = []\n",
    "        grouped[x].append(y)\n",
    "    keys = sorted(grouped.keys())\n",
    "    xs = np.array([k for k in keys])\n",
    "    means = np.array([np.mean(grouped[k]) for k in keys])\n",
    "    mins = np.array([np.min(grouped[k]) for k in keys])\n",
    "    maxs = np.array([np.max(grouped[k]) for k in keys])\n",
    "    return xs, means, means-mins, maxs - means\n",
    "        \n",
    "        \n",
    "def draw_barplot(dirs, names, columns, ax=None, ylabel=\"\"):\n",
    "    width = 0.2  # the width of the bars\n",
    "    capsize = 3\n",
    "    \n",
    "    colors = ['r', 'b', 'y']\n",
    "    \n",
    "    index = np.arange(len(set(names)))\n",
    "    \n",
    "    if ax is None:\n",
    "            fig = plt.figure()\n",
    "            ax = fig.add_subplot(111)\n",
    "    \n",
    "    for i, column in enumerate(columns):\n",
    "        x1 = names\n",
    "        y1 = read_column(dirs, column)\n",
    "        x, ymean, yl, yh = compute_stats(x1, y1)\n",
    "\n",
    "        ax.bar(index + i*width, ymean, width, yerr=[yl, yh], capsize=capsize, color=colors[i], label=column)\n",
    "\n",
    "    ax.set_ylabel(ylabel)\n",
    "    ax.set_xticks(index + width * (len(columns)/2 - 0.5))\n",
    "    ax.set_xticklabels(x)\n",
    "    plt.legend(loc='upper right')\n",
    "    \n",
    "    return ax"
   ]
  },
  {
   "cell_type": "code",
   "execution_count": 112,
   "metadata": {},
   "outputs": [
    {
     "data": {
      "image/png": "[encoded data removed]",
      "text/plain": [
       "<Figure size 432x288 with 1 Axes>"
      ]
     },
     "metadata": {
      "needs_background": "light"
     },
     "output_type": "display_data"
    }
   ],
   "source": [
    "ax = draw_barplot(dirs, names, [\"torque\", \"joint_angle\"], ylabel=\"Symmetric Index\")"
   ]
  },
  {
   "cell_type": "code",
   "execution_count": 143,
   "metadata": {},
   "outputs": [
    {
     "name": "stdout",
     "output_type": "stream",
     "text": [
      "[('../runs/2019_07_12__17_45_53__w3_traj/4/', 'traj'), ('../runs/2019_07_12__17_45_53__w3_traj/2/', 'traj')]\n"
     ]
    }
   ],
   "source": [
    "dirs = glob.glob(\"../runs/*12__17_4*w3*/*/\") + [\"../runs/2019_07_12__20_35_43__w3_karen_4/1\"]\n",
    "names = [re.findall(\"w3_([^\\/]*)\", path)[0] for path in dirs]\n",
    "print(list(zip(dirs, names))[:2])"
   ]
  },
  {
   "cell_type": "code",
   "execution_count": 144,
   "metadata": {},
   "outputs": [
    {
     "ename": "TypeError",
     "evalue": "read_column() missing 1 required positional argument: 'column'",
     "output_type": "error",
     "traceback": [
      "\u001b[0;31m---------------------------------------------------------------------------\u001b[0m",
      "\u001b[0;31mTypeError\u001b[0m                                 Traceback (most recent call last)",
      "\u001b[0;32m<ipython-input-144-84c7b457ade1>\u001b[0m in \u001b[0;36m<module>\u001b[0;34m\u001b[0m\n\u001b[0;32m----> 1\u001b[0;31m \u001b[0max\u001b[0m \u001b[0;34m=\u001b[0m \u001b[0mdraw_barplot\u001b[0m\u001b[0;34m(\u001b[0m\u001b[0mdirs\u001b[0m\u001b[0;34m,\u001b[0m \u001b[0mnames\u001b[0m\u001b[0;34m,\u001b[0m \u001b[0;34m[\u001b[0m\u001b[0;34m\"torque\"\u001b[0m\u001b[0;34m,\u001b[0m \u001b[0;34m\"joint_angle\"\u001b[0m\u001b[0;34m]\u001b[0m\u001b[0;34m,\u001b[0m \u001b[0mylabel\u001b[0m\u001b[0;34m=\u001b[0m\u001b[0;34m\"Symmetric Index\"\u001b[0m\u001b[0;34m)\u001b[0m\u001b[0;34m\u001b[0m\u001b[0;34m\u001b[0m\u001b[0m\n\u001b[0m",
      "\u001b[0;32m<ipython-input-55-7f605da7e9fc>\u001b[0m in \u001b[0;36mdraw_barplot\u001b[0;34m(dirs, names, columns, ax, ylabel)\u001b[0m\n\u001b[1;32m     27\u001b[0m     \u001b[0;32mfor\u001b[0m \u001b[0mi\u001b[0m\u001b[0;34m,\u001b[0m \u001b[0mcolumn\u001b[0m \u001b[0;32min\u001b[0m \u001b[0menumerate\u001b[0m\u001b[0;34m(\u001b[0m\u001b[0mcolumns\u001b[0m\u001b[0;34m)\u001b[0m\u001b[0;34m:\u001b[0m\u001b[0;34m\u001b[0m\u001b[0;34m\u001b[0m\u001b[0m\n\u001b[1;32m     28\u001b[0m         \u001b[0mx1\u001b[0m \u001b[0;34m=\u001b[0m \u001b[0mnames\u001b[0m\u001b[0;34m\u001b[0m\u001b[0;34m\u001b[0m\u001b[0m\n\u001b[0;32m---> 29\u001b[0;31m         \u001b[0my1\u001b[0m \u001b[0;34m=\u001b[0m \u001b[0mread_column\u001b[0m\u001b[0;34m(\u001b[0m\u001b[0mdirs\u001b[0m\u001b[0;34m,\u001b[0m \u001b[0mcolumn\u001b[0m\u001b[0;34m)\u001b[0m\u001b[0;34m\u001b[0m\u001b[0;34m\u001b[0m\u001b[0m\n\u001b[0m\u001b[1;32m     30\u001b[0m         \u001b[0mx\u001b[0m\u001b[0;34m,\u001b[0m \u001b[0mymean\u001b[0m\u001b[0;34m,\u001b[0m \u001b[0myl\u001b[0m\u001b[0;34m,\u001b[0m \u001b[0myh\u001b[0m \u001b[0;34m=\u001b[0m \u001b[0mcompute_stats\u001b[0m\u001b[0;34m(\u001b[0m\u001b[0mx1\u001b[0m\u001b[0;34m,\u001b[0m \u001b[0my1\u001b[0m\u001b[0;34m)\u001b[0m\u001b[0;34m\u001b[0m\u001b[0;34m\u001b[0m\u001b[0m\n\u001b[1;32m     31\u001b[0m \u001b[0;34m\u001b[0m\u001b[0m\n",
      "\u001b[0;31mTypeError\u001b[0m: read_column() missing 1 required positional argument: 'column'"
     ]
    },
    {
     "data": {
      "image/png": "[encoded data removed]",
      "text/plain": [
       "<Figure size 432x288 with 1 Axes>"
      ]
     },
     "metadata": {
      "needs_background": "light"
     },
     "output_type": "display_data"
    }
   ],
   "source": [
    "ax = draw_barplot(dirs, names, [\"torque\", \"joint_angle\"], ylabel=\"Symmetric Index\")"
   ]
  },
  {
   "cell_type": "code",
   "execution_count": 7,
   "metadata": {},
   "outputs": [
    {
     "name": "stdout",
     "output_type": "stream",
     "text": [
      "[('../runs/2019_07_12__20_09_01__w2_net/1', 'net')]\n"
     ]
    }
   ],
   "source": [
    "dirs = ['../runs/2019_07_12__20_09_01__w2_net/1']\n",
    "names = [re.findall(\"w2_([^\\/]*)\", path)[0] for path in dirs]\n",
    "print(list(zip(dirs, names))[:2])"
   ]
  },
  {
   "cell_type": "code",
   "execution_count": 10,
   "metadata": {},
   "outputs": [
    {
     "data": {
      "image/png": "[encoded data removed]",
      "text/plain": [
       "<Figure size 432x288 with 1 Axes>"
      ]
     },
     "metadata": {
      "needs_background": "light"
     },
     "output_type": "display_data"
    }
   ],
   "source": [
    "ax = draw_barplot(dirs, names, [\"torque\", \"joint_angle\", \"phase_plot_index\"], ylabel=\"Symmetric Index\")"
   ]
  },
  {
   "cell_type": "code",
   "execution_count": 12,
   "metadata": {},
   "outputs": [
    {
     "data": {
      "text/plain": [
       "<BarContainer object of 3 artists>"
      ]
     },
     "execution_count": 12,
     "metadata": {},
     "output_type": "execute_result"
    },
    {
     "data": {
      "image/png": "[encoded data removed]",
      "text/plain": [
       "<Figure size 432x288 with 1 Axes>"
      ]
     },
     "metadata": {
      "needs_background": "light"
     },
     "output_type": "display_data"
    }
   ],
   "source": [
    "plt.bar([1,2,3], [1,2,3], color=['r', 'y', 'b'])"
   ]
  },
  {
   "cell_type": "code",
   "execution_count": null,
   "metadata": {},
   "outputs": [],
   "source": []
  },
  {
   "cell_type": "markdown",
   "metadata": {},
   "source": [
    "## Changing the Data Grouping"
   ]
  },
  {
   "cell_type": "code",
   "execution_count": 54,
   "metadata": {},
   "outputs": [],
   "source": [
    "def group(xs, ys):\n",
    "    grouped = {}\n",
    "    for x, y in zip(xs, ys):\n",
    "        if not x in grouped:\n",
    "            grouped[x] = []\n",
    "        grouped[x].append(y)\n",
    "    return grouped\n",
    "\n",
    "def compute_stats2(rows):\n",
    "    means = np.array([np.mean(r) for r in rows])\n",
    "    mins = np.array([np.min(r) for r in rows])\n",
    "    maxs = np.array([np.max(r) for r in rows])\n",
    "    return means, means-mins, maxs - means\n",
    "        \n",
    "        \n",
    "def draw_barplot_column(dirs, names, columns, ax=None, ylabel=\"\"):\n",
    "    width = 0.2  # the width of the bars\n",
    "    capsize = 3\n",
    "    \n",
    "    colors = [\n",
    "        \"#ff0000\", \"#00035b\", \"#feb308\", \"#1B5E20\",\n",
    "        \"#017b92\", \"#a2cffe\", \"#ff028d\", \"#8b2e16\",\n",
    "        \"#916e99\", \"#b9ff66\", \"#000000\", \"#7bb274\",\n",
    "        \"#ff000d\",\n",
    "    ]\n",
    "    \n",
    "    if ax is None:\n",
    "        fig = plt.figure()\n",
    "        ax = fig.add_subplot(111)\n",
    "    \n",
    "    gdirs = group(names, dirs)\n",
    "    \n",
    "    index = np.arange(len(columns)) * width * (len(gdirs) + 2)\n",
    "    \n",
    "    for j, (name, ds) in enumerate(gdirs.items()):\n",
    "        ys = [read_column(ds, column) for column in columns]\n",
    "        ymean, yl, yh = compute_stats2(ys)\n",
    "\n",
    "        ax.bar(\n",
    "            index + j*width,\n",
    "            ymean,\n",
    "            yerr=[yl, yh],\n",
    "            color=colors[j], label=name,\n",
    "            width=width, capsize=capsize,\n",
    "        )\n",
    "\n",
    "    ax.set_ylabel(ylabel)\n",
    "    ax.set_xticks(index + width * (len(gdirs)/2 - 0.5))\n",
    "    ax.set_xticklabels(columns)\n",
    "    plt.legend(loc='upper right')\n",
    "    \n",
    "    return ax"
   ]
  },
  {
   "cell_type": "code",
   "execution_count": 50,
   "metadata": {},
   "outputs": [
    {
     "name": "stdout",
     "output_type": "stream",
     "text": [
      "[('../runs/2019_07_12__17_45_53__w3_traj/4/', 'traj'), ('../runs/2019_07_12__17_45_53__w3_traj/2/', 'traj')]\n"
     ]
    }
   ],
   "source": [
    "dirs = glob.glob(\"../runs/*12__17_4*w3*/*/\") + [\"../runs/2019_07_12__20_35_43__w3_karen_4/1\"]\n",
    "names = [re.findall(\"w3_([^\\/]*)\", path)[0] for path in dirs]\n",
    "print(list(zip(dirs, names))[:2])"
   ]
  },
  {
   "cell_type": "code",
   "execution_count": 58,
   "metadata": {},
   "outputs": [
    {
     "data": {
      "image/png": "[encoded data removed]",
      "text/plain": [
       "<Figure size 432x288 with 1 Axes>"
      ]
     },
     "metadata": {
      "needs_background": "light"
     },
     "output_type": "display_data"
    }
   ],
   "source": [
    "ax = draw_barplot(dirs, names, [\"phase_plot_index\"], ylabel=\"Phase Plot Symmetric Index\")"
   ]
  },
  {
   "cell_type": "code",
   "execution_count": 59,
   "metadata": {},
   "outputs": [
    {
     "data": {
      "image/png": "[encoded data removed]",
      "text/plain": [
       "<Figure size 432x288 with 1 Axes>"
      ]
     },
     "metadata": {
      "needs_background": "light"
     },
     "output_type": "display_data"
    }
   ],
   "source": [
    "ax = draw_barplot_column(dirs, names, [\"torque\", \"joint_angle\",], ylabel=\"Symmetric Index\")"
   ]
  },
  {
   "cell_type": "code",
   "execution_count": 62,
   "metadata": {},
   "outputs": [
    {
     "name": "stdout",
     "output_type": "stream",
     "text": [
      "[('../runs/2019_07_12__20_09_08__w2_base/4/', 'base'), ('../runs/2019_07_12__20_09_08__w2_base/2/', 'base')]\n"
     ]
    }
   ],
   "source": [
    "dirs = glob.glob(\"../runs/*12__20*_w2_*/*/\") + glob.glob(\"../runs/*00_00__w2*/*/\")\n",
    "names = [re.findall(\"w2.*_([^\\/]*)\", path)[0] for path in dirs]\n",
    "print(list(zip(dirs, names))[:2])"
   ]
  },
  {
   "cell_type": "code",
   "execution_count": 63,
   "metadata": {},
   "outputs": [
    {
     "ename": "KeyError",
     "evalue": "'phase_plot_index'",
     "output_type": "error",
     "traceback": [
      "\u001b[0;31m---------------------------------------------------------------------------\u001b[0m",
      "\u001b[0;31mKeyError\u001b[0m                                  Traceback (most recent call last)",
      "\u001b[0;32m<ipython-input-63-5fe4837271df>\u001b[0m in \u001b[0;36m<module>\u001b[0;34m\u001b[0m\n\u001b[0;32m----> 1\u001b[0;31m \u001b[0max\u001b[0m \u001b[0;34m=\u001b[0m \u001b[0mdraw_barplot\u001b[0m\u001b[0;34m(\u001b[0m\u001b[0mdirs\u001b[0m\u001b[0;34m,\u001b[0m \u001b[0mnames\u001b[0m\u001b[0;34m,\u001b[0m \u001b[0;34m[\u001b[0m\u001b[0;34m\"phase_plot_index\"\u001b[0m\u001b[0;34m]\u001b[0m\u001b[0;34m,\u001b[0m \u001b[0mylabel\u001b[0m\u001b[0;34m=\u001b[0m\u001b[0;34m\"Phase Plot Symmetric Index\"\u001b[0m\u001b[0;34m)\u001b[0m\u001b[0;34m\u001b[0m\u001b[0;34m\u001b[0m\u001b[0m\n\u001b[0m",
      "\u001b[0;32m<ipython-input-55-7f605da7e9fc>\u001b[0m in \u001b[0;36mdraw_barplot\u001b[0;34m(dirs, names, columns, ax, ylabel)\u001b[0m\n\u001b[1;32m     27\u001b[0m     \u001b[0;32mfor\u001b[0m \u001b[0mi\u001b[0m\u001b[0;34m,\u001b[0m \u001b[0mcolumn\u001b[0m \u001b[0;32min\u001b[0m \u001b[0menumerate\u001b[0m\u001b[0;34m(\u001b[0m\u001b[0mcolumns\u001b[0m\u001b[0;34m)\u001b[0m\u001b[0;34m:\u001b[0m\u001b[0;34m\u001b[0m\u001b[0;34m\u001b[0m\u001b[0m\n\u001b[1;32m     28\u001b[0m         \u001b[0mx1\u001b[0m \u001b[0;34m=\u001b[0m \u001b[0mnames\u001b[0m\u001b[0;34m\u001b[0m\u001b[0;34m\u001b[0m\u001b[0m\n\u001b[0;32m---> 29\u001b[0;31m         \u001b[0my1\u001b[0m \u001b[0;34m=\u001b[0m \u001b[0mread_column\u001b[0m\u001b[0;34m(\u001b[0m\u001b[0mdirs\u001b[0m\u001b[0;34m,\u001b[0m \u001b[0mcolumn\u001b[0m\u001b[0;34m)\u001b[0m\u001b[0;34m\u001b[0m\u001b[0;34m\u001b[0m\u001b[0m\n\u001b[0m\u001b[1;32m     30\u001b[0m         \u001b[0mx\u001b[0m\u001b[0;34m,\u001b[0m \u001b[0mymean\u001b[0m\u001b[0;34m,\u001b[0m \u001b[0myl\u001b[0m\u001b[0;34m,\u001b[0m \u001b[0myh\u001b[0m \u001b[0;34m=\u001b[0m \u001b[0mcompute_stats\u001b[0m\u001b[0;34m(\u001b[0m\u001b[0mx1\u001b[0m\u001b[0;34m,\u001b[0m \u001b[0my1\u001b[0m\u001b[0;34m)\u001b[0m\u001b[0;34m\u001b[0m\u001b[0;34m\u001b[0m\u001b[0m\n\u001b[1;32m     31\u001b[0m \u001b[0;34m\u001b[0m\u001b[0m\n",
      "\u001b[0;32m<ipython-input-5-24262517cc04>\u001b[0m in \u001b[0;36mread_column\u001b[0;34m(paths, column)\u001b[0m\n\u001b[1;32m      1\u001b[0m \u001b[0;32mdef\u001b[0m \u001b[0mread_column\u001b[0m\u001b[0;34m(\u001b[0m\u001b[0mpaths\u001b[0m\u001b[0;34m,\u001b[0m \u001b[0mcolumn\u001b[0m\u001b[0;34m)\u001b[0m\u001b[0;34m:\u001b[0m\u001b[0;34m\u001b[0m\u001b[0;34m\u001b[0m\u001b[0m\n\u001b[0;32m----> 2\u001b[0;31m     \u001b[0;32mreturn\u001b[0m \u001b[0;34m[\u001b[0m\u001b[0mread_data\u001b[0m\u001b[0;34m(\u001b[0m\u001b[0mpath\u001b[0m\u001b[0;34m)\u001b[0m\u001b[0;34m[\u001b[0m\u001b[0mcolumn\u001b[0m\u001b[0;34m]\u001b[0m \u001b[0;32mfor\u001b[0m \u001b[0mpath\u001b[0m \u001b[0;32min\u001b[0m \u001b[0mpaths\u001b[0m\u001b[0;34m]\u001b[0m\u001b[0;34m\u001b[0m\u001b[0;34m\u001b[0m\u001b[0m\n\u001b[0m",
      "\u001b[0;32m<ipython-input-5-24262517cc04>\u001b[0m in \u001b[0;36m<listcomp>\u001b[0;34m(.0)\u001b[0m\n\u001b[1;32m      1\u001b[0m \u001b[0;32mdef\u001b[0m \u001b[0mread_column\u001b[0m\u001b[0;34m(\u001b[0m\u001b[0mpaths\u001b[0m\u001b[0;34m,\u001b[0m \u001b[0mcolumn\u001b[0m\u001b[0;34m)\u001b[0m\u001b[0;34m:\u001b[0m\u001b[0;34m\u001b[0m\u001b[0;34m\u001b[0m\u001b[0m\n\u001b[0;32m----> 2\u001b[0;31m     \u001b[0;32mreturn\u001b[0m \u001b[0;34m[\u001b[0m\u001b[0mread_data\u001b[0m\u001b[0;34m(\u001b[0m\u001b[0mpath\u001b[0m\u001b[0;34m)\u001b[0m\u001b[0;34m[\u001b[0m\u001b[0mcolumn\u001b[0m\u001b[0;34m]\u001b[0m \u001b[0;32mfor\u001b[0m \u001b[0mpath\u001b[0m \u001b[0;32min\u001b[0m \u001b[0mpaths\u001b[0m\u001b[0;34m]\u001b[0m\u001b[0;34m\u001b[0m\u001b[0;34m\u001b[0m\u001b[0m\n\u001b[0m",
      "\u001b[0;31mKeyError\u001b[0m: 'phase_plot_index'"
     ]
    },
    {
     "data": {
      "image/png": "[encoded data removed]",
      "text/plain": [
       "<Figure size 432x288 with 1 Axes>"
      ]
     },
     "metadata": {
      "needs_background": "light"
     },
     "output_type": "display_data"
    }
   ],
   "source": [
    "ax = draw_barplot(dirs, names, [\"phase_plot_index\"], ylabel=\"Phase Plot Symmetric Index\")"
   ]
  },
  {
   "cell_type": "code",
   "execution_count": 119,
   "metadata": {},
   "outputs": [],
   "source": [
    "def draw_barplot_column(df, ax=None):\n",
    "    width = 0.2  # the width of the bars\n",
    "    capsize = 3\n",
    "    \n",
    "    colors = [\n",
    "        \"#ff0000\", \"#00035b\", \"#feb308\", \"#1B5E20\",\n",
    "        \"#017b92\", \"#a2cffe\", \"#ff028d\", \"#8b2e16\",\n",
    "        \"#916e99\", \"#b9ff66\", \"#000000\", \"#7bb274\",\n",
    "        \"#ff000d\",\n",
    "    ]\n",
    "    \n",
    "    if ax is None:\n",
    "        fig = plt.figure()\n",
    "        ax = fig.add_subplot(111)\n",
    "    \n",
    "    means, mins, maxs = df.mean(), df.min(), df.max()\n",
    "    \n",
    "    \n",
    "    \n",
    "    \n",
    "    \n",
    "#     for j, (name, ds) in enumerate(gdirs.items()):\n",
    "#         ys = [read_column(ds, column) for column in columns]\n",
    "#         ymean, yl, yh = compute_stats2(ys)\n",
    "\n",
    "#         ax.bar(\n",
    "#             index + j*width,\n",
    "#             ymean,\n",
    "#             yerr=[yl, yh],\n",
    "#             color=colors[j], label=name,\n",
    "#             width=width, capsize=capsize,\n",
    "#         )\n",
    "\n",
    "    ax.set_ylabel(ylabel)\n",
    "    ax.set_xticks(index + width * (len(gdirs)/2 - 0.5))\n",
    "    ax.set_xticklabels(columns)\n",
    "    plt.legend(loc='upper right')\n",
    "    \n",
    "    return ax"
   ]
  },
  {
   "cell_type": "code",
   "execution_count": null,
   "metadata": {},
   "outputs": [],
   "source": []
  },
  {
   "cell_type": "code",
   "execution_count": 9,
   "metadata": {},
   "outputs": [
    {
     "ename": "KeyError",
     "evalue": "\"None of [Index(['phase_plot_index'], dtype='object')] are in the [columns]\"",
     "output_type": "error",
     "traceback": [
      "\u001b[0;31m---------------------------------------------------------------------------\u001b[0m",
      "\u001b[0;31mKeyError\u001b[0m                                  Traceback (most recent call last)",
      "\u001b[0;32m<ipython-input-9-d25fea657194>\u001b[0m in \u001b[0;36m<module>\u001b[0;34m\u001b[0m\n\u001b[0;32m----> 1\u001b[0;31m \u001b[0mdf\u001b[0m \u001b[0;34m=\u001b[0m \u001b[0mread_column\u001b[0m\u001b[0;34m(\u001b[0m\u001b[0mdirs\u001b[0m\u001b[0;34m,\u001b[0m \u001b[0mnames\u001b[0m\u001b[0;34m,\u001b[0m \u001b[0;34m[\u001b[0m\u001b[0;34m\"phase_plot_index\"\u001b[0m\u001b[0;34m]\u001b[0m\u001b[0;34m)\u001b[0m\u001b[0;34m.\u001b[0m\u001b[0mgroupby\u001b[0m\u001b[0;34m(\u001b[0m\u001b[0mlevel\u001b[0m\u001b[0;34m=\u001b[0m\u001b[0;36m0\u001b[0m\u001b[0;34m)\u001b[0m\u001b[0;34m\u001b[0m\u001b[0;34m\u001b[0m\u001b[0m\n\u001b[0m\u001b[1;32m      2\u001b[0m \u001b[0;34m\u001b[0m\u001b[0m\n\u001b[1;32m      3\u001b[0m \u001b[0mdf\u001b[0m\u001b[0;34m.\u001b[0m\u001b[0mmean\u001b[0m\u001b[0;34m(\u001b[0m\u001b[0;34m)\u001b[0m\u001b[0;34m.\u001b[0m\u001b[0mplot\u001b[0m\u001b[0;34m(\u001b[0m\u001b[0my\u001b[0m\u001b[0;34m=\u001b[0m\u001b[0mdf\u001b[0m\u001b[0;34m.\u001b[0m\u001b[0mmean\u001b[0m\u001b[0;34m(\u001b[0m\u001b[0;34m)\u001b[0m\u001b[0;34m.\u001b[0m\u001b[0mcolumns\u001b[0m\u001b[0;34m,\u001b[0m \u001b[0mkind\u001b[0m\u001b[0;34m=\u001b[0m\u001b[0;34m\"bar\"\u001b[0m\u001b[0;34m)\u001b[0m\u001b[0;34m\u001b[0m\u001b[0;34m\u001b[0m\u001b[0m\n",
      "\u001b[0;32m<ipython-input-3-02322ce250ad>\u001b[0m in \u001b[0;36mread_column\u001b[0;34m(paths, keys, column)\u001b[0m\n\u001b[1;32m      1\u001b[0m \u001b[0;32mdef\u001b[0m \u001b[0mread_column\u001b[0m\u001b[0;34m(\u001b[0m\u001b[0mpaths\u001b[0m\u001b[0;34m,\u001b[0m \u001b[0mkeys\u001b[0m\u001b[0;34m,\u001b[0m \u001b[0mcolumn\u001b[0m\u001b[0;34m)\u001b[0m\u001b[0;34m:\u001b[0m\u001b[0;34m\u001b[0m\u001b[0;34m\u001b[0m\u001b[0m\n\u001b[0;32m----> 2\u001b[0;31m     \u001b[0;32mreturn\u001b[0m \u001b[0mpd\u001b[0m\u001b[0;34m.\u001b[0m\u001b[0mconcat\u001b[0m\u001b[0;34m(\u001b[0m\u001b[0;34m[\u001b[0m\u001b[0mread_data\u001b[0m\u001b[0;34m(\u001b[0m\u001b[0mpath\u001b[0m\u001b[0;34m,\u001b[0m \u001b[0mkey\u001b[0m\u001b[0;34m)\u001b[0m\u001b[0;34m[\u001b[0m\u001b[0mcolumn\u001b[0m\u001b[0;34m]\u001b[0m \u001b[0;32mfor\u001b[0m \u001b[0mpath\u001b[0m\u001b[0;34m,\u001b[0m \u001b[0mkey\u001b[0m \u001b[0;32min\u001b[0m \u001b[0mzip\u001b[0m\u001b[0;34m(\u001b[0m\u001b[0mpaths\u001b[0m\u001b[0;34m,\u001b[0m \u001b[0mkeys\u001b[0m\u001b[0;34m)\u001b[0m\u001b[0;34m]\u001b[0m\u001b[0;34m)\u001b[0m\u001b[0;34m\u001b[0m\u001b[0;34m\u001b[0m\u001b[0m\n\u001b[0m",
      "\u001b[0;32m<ipython-input-3-02322ce250ad>\u001b[0m in \u001b[0;36m<listcomp>\u001b[0;34m(.0)\u001b[0m\n\u001b[1;32m      1\u001b[0m \u001b[0;32mdef\u001b[0m \u001b[0mread_column\u001b[0m\u001b[0;34m(\u001b[0m\u001b[0mpaths\u001b[0m\u001b[0;34m,\u001b[0m \u001b[0mkeys\u001b[0m\u001b[0;34m,\u001b[0m \u001b[0mcolumn\u001b[0m\u001b[0;34m)\u001b[0m\u001b[0;34m:\u001b[0m\u001b[0;34m\u001b[0m\u001b[0;34m\u001b[0m\u001b[0m\n\u001b[0;32m----> 2\u001b[0;31m     \u001b[0;32mreturn\u001b[0m \u001b[0mpd\u001b[0m\u001b[0;34m.\u001b[0m\u001b[0mconcat\u001b[0m\u001b[0;34m(\u001b[0m\u001b[0;34m[\u001b[0m\u001b[0mread_data\u001b[0m\u001b[0;34m(\u001b[0m\u001b[0mpath\u001b[0m\u001b[0;34m,\u001b[0m \u001b[0mkey\u001b[0m\u001b[0;34m)\u001b[0m\u001b[0;34m[\u001b[0m\u001b[0mcolumn\u001b[0m\u001b[0;34m]\u001b[0m \u001b[0;32mfor\u001b[0m \u001b[0mpath\u001b[0m\u001b[0;34m,\u001b[0m \u001b[0mkey\u001b[0m \u001b[0;32min\u001b[0m \u001b[0mzip\u001b[0m\u001b[0;34m(\u001b[0m\u001b[0mpaths\u001b[0m\u001b[0;34m,\u001b[0m \u001b[0mkeys\u001b[0m\u001b[0;34m)\u001b[0m\u001b[0;34m]\u001b[0m\u001b[0;34m)\u001b[0m\u001b[0;34m\u001b[0m\u001b[0;34m\u001b[0m\u001b[0m\n\u001b[0m",
      "\u001b[0;32m~/devel/venv/lib/python3.6/site-packages/pandas/core/frame.py\u001b[0m in \u001b[0;36m__getitem__\u001b[0;34m(self, key)\u001b[0m\n\u001b[1;32m   2932\u001b[0m                 \u001b[0mkey\u001b[0m \u001b[0;34m=\u001b[0m \u001b[0mlist\u001b[0m\u001b[0;34m(\u001b[0m\u001b[0mkey\u001b[0m\u001b[0;34m)\u001b[0m\u001b[0;34m\u001b[0m\u001b[0;34m\u001b[0m\u001b[0m\n\u001b[1;32m   2933\u001b[0m             indexer = self.loc._convert_to_indexer(key, axis=1,\n\u001b[0;32m-> 2934\u001b[0;31m                                                    raise_missing=True)\n\u001b[0m\u001b[1;32m   2935\u001b[0m \u001b[0;34m\u001b[0m\u001b[0m\n\u001b[1;32m   2936\u001b[0m         \u001b[0;31m# take() does not accept boolean indexers\u001b[0m\u001b[0;34m\u001b[0m\u001b[0;34m\u001b[0m\u001b[0;34m\u001b[0m\u001b[0m\n",
      "\u001b[0;32m~/devel/venv/lib/python3.6/site-packages/pandas/core/indexing.py\u001b[0m in \u001b[0;36m_convert_to_indexer\u001b[0;34m(self, obj, axis, is_setter, raise_missing)\u001b[0m\n\u001b[1;32m   1352\u001b[0m                 kwargs = {'raise_missing': True if is_setter else\n\u001b[1;32m   1353\u001b[0m                           raise_missing}\n\u001b[0;32m-> 1354\u001b[0;31m                 \u001b[0;32mreturn\u001b[0m \u001b[0mself\u001b[0m\u001b[0;34m.\u001b[0m\u001b[0m_get_listlike_indexer\u001b[0m\u001b[0;34m(\u001b[0m\u001b[0mobj\u001b[0m\u001b[0;34m,\u001b[0m \u001b[0maxis\u001b[0m\u001b[0;34m,\u001b[0m \u001b[0;34m**\u001b[0m\u001b[0mkwargs\u001b[0m\u001b[0;34m)\u001b[0m\u001b[0;34m[\u001b[0m\u001b[0;36m1\u001b[0m\u001b[0;34m]\u001b[0m\u001b[0;34m\u001b[0m\u001b[0;34m\u001b[0m\u001b[0m\n\u001b[0m\u001b[1;32m   1355\u001b[0m         \u001b[0;32melse\u001b[0m\u001b[0;34m:\u001b[0m\u001b[0;34m\u001b[0m\u001b[0;34m\u001b[0m\u001b[0m\n\u001b[1;32m   1356\u001b[0m             \u001b[0;32mtry\u001b[0m\u001b[0;34m:\u001b[0m\u001b[0;34m\u001b[0m\u001b[0;34m\u001b[0m\u001b[0m\n",
      "\u001b[0;32m~/devel/venv/lib/python3.6/site-packages/pandas/core/indexing.py\u001b[0m in \u001b[0;36m_get_listlike_indexer\u001b[0;34m(self, key, axis, raise_missing)\u001b[0m\n\u001b[1;32m   1159\u001b[0m         self._validate_read_indexer(keyarr, indexer,\n\u001b[1;32m   1160\u001b[0m                                     \u001b[0mo\u001b[0m\u001b[0;34m.\u001b[0m\u001b[0m_get_axis_number\u001b[0m\u001b[0;34m(\u001b[0m\u001b[0maxis\u001b[0m\u001b[0;34m)\u001b[0m\u001b[0;34m,\u001b[0m\u001b[0;34m\u001b[0m\u001b[0;34m\u001b[0m\u001b[0m\n\u001b[0;32m-> 1161\u001b[0;31m                                     raise_missing=raise_missing)\n\u001b[0m\u001b[1;32m   1162\u001b[0m         \u001b[0;32mreturn\u001b[0m \u001b[0mkeyarr\u001b[0m\u001b[0;34m,\u001b[0m \u001b[0mindexer\u001b[0m\u001b[0;34m\u001b[0m\u001b[0;34m\u001b[0m\u001b[0m\n\u001b[1;32m   1163\u001b[0m \u001b[0;34m\u001b[0m\u001b[0m\n",
      "\u001b[0;32m~/devel/venv/lib/python3.6/site-packages/pandas/core/indexing.py\u001b[0m in \u001b[0;36m_validate_read_indexer\u001b[0;34m(self, key, indexer, axis, raise_missing)\u001b[0m\n\u001b[1;32m   1244\u001b[0m                 raise KeyError(\n\u001b[1;32m   1245\u001b[0m                     u\"None of [{key}] are in the [{axis}]\".format(\n\u001b[0;32m-> 1246\u001b[0;31m                         key=key, axis=self.obj._get_axis_name(axis)))\n\u001b[0m\u001b[1;32m   1247\u001b[0m \u001b[0;34m\u001b[0m\u001b[0m\n\u001b[1;32m   1248\u001b[0m             \u001b[0;31m# We (temporarily) allow for some missing keys with .loc, except in\u001b[0m\u001b[0;34m\u001b[0m\u001b[0;34m\u001b[0m\u001b[0;34m\u001b[0m\u001b[0m\n",
      "\u001b[0;31mKeyError\u001b[0m: \"None of [Index(['phase_plot_index'], dtype='object')] are in the [columns]\""
     ]
    }
   ],
   "source": [
    "df = read_column(dirs, names, [\"phase_plot_index\"]).groupby(level=0)\n",
    "\n",
    "df.mean().plot(y=df.mean().columns, kind=\"bar\")\n"
   ]
  },
  {
   "cell_type": "code",
   "execution_count": 178,
   "metadata": {},
   "outputs": [],
   "source": [
    "def read_data(path, method, env):\n",
    "    try:\n",
    "        with open(os.path.join(path, \"evaluate.json\"), 'r') as jfile:\n",
    "            data = json.load(jfile)\n",
    "            data['method'] = method\n",
    "            data['env'] = env\n",
    "            return pd.DataFrame(data, index=[0])\n",
    "    except:\n",
    "        warnings.warn(\"Path {} did not contain {} in {}\".format(path, method, env))\n",
    "        return pd.DataFrame()\n",
    "\n",
    "def read_paths(paths, methods, envs):\n",
    "    return pd.concat([read_data(path, method, env) for path, method, env in zip(paths, methods, envs)], sort=False)"
   ]
  },
  {
   "cell_type": "code",
   "execution_count": 179,
   "metadata": {},
   "outputs": [],
   "source": [
    "dirs = (\n",
    "    glob.glob(\"../experiments/Walker2D/*/*/\")\n",
    "    + glob.glob(\"../experiments/Walker3D/*/*/\")\n",
    "    + glob.glob(\"../experiments/Stepper/*/*/\")\n",
    "    + glob.glob(\"../experiments/Cassie/*/\")\n",
    ")\n",
    "envs = [re.findall(\"experiments/([^\\/]*)/\", path)[0] for path in dirs]\n",
    "\n",
    "methods = [\n",
    "    re.findall(env + \"/.*_([^\\/]*)/\", path)[0]\n",
    "    if env != 'Cassie' else\n",
    "    re.findall(env + \"/.*cassie-([a-z]*).*/\", path)[0]\n",
    "    \n",
    "    for env, path in zip(envs, dirs)\n",
    "]\n",
    "\n",
    "df = read_paths(dirs, methods, envs)\n",
    "# df"
   ]
  },
  {
   "cell_type": "code",
   "execution_count": 180,
   "metadata": {},
   "outputs": [
    {
     "data": {
      "text/html": [
       "<div>\n",
       "<style scoped>\n",
       "    .dataframe tbody tr th:only-of-type {\n",
       "        vertical-align: middle;\n",
       "    }\n",
       "\n",
       "    .dataframe tbody tr th {\n",
       "        vertical-align: top;\n",
       "    }\n",
       "\n",
       "    .dataframe thead th {\n",
       "        text-align: right;\n",
       "    }\n",
       "</style>\n",
       "<table border=\"1\" class=\"dataframe\">\n",
       "  <thead>\n",
       "    <tr style=\"text-align: right;\">\n",
       "      <th></th>\n",
       "      <th></th>\n",
       "      <th>torque</th>\n",
       "      <th>joint_angle</th>\n",
       "      <th>phase_plot_index</th>\n",
       "    </tr>\n",
       "    <tr>\n",
       "      <th>env</th>\n",
       "      <th>method</th>\n",
       "      <th></th>\n",
       "      <th></th>\n",
       "      <th></th>\n",
       "    </tr>\n",
       "  </thead>\n",
       "  <tbody>\n",
       "    <tr>\n",
       "      <th rowspan=\"5\" valign=\"top\">Cassie</th>\n",
       "      <th>base</th>\n",
       "      <td>9.271694</td>\n",
       "      <td>2.968138</td>\n",
       "      <td>0.491794</td>\n",
       "    </tr>\n",
       "    <tr>\n",
       "      <th>loss</th>\n",
       "      <td>15.715926</td>\n",
       "      <td>0.829299</td>\n",
       "      <td>0.313058</td>\n",
       "    </tr>\n",
       "    <tr>\n",
       "      <th>net</th>\n",
       "      <td>5.145445</td>\n",
       "      <td>0.865306</td>\n",
       "      <td>0.226094</td>\n",
       "    </tr>\n",
       "    <tr>\n",
       "      <th>phase</th>\n",
       "      <td>4.485516</td>\n",
       "      <td>0.357746</td>\n",
       "      <td>0.169372</td>\n",
       "    </tr>\n",
       "    <tr>\n",
       "      <th>traj</th>\n",
       "      <td>6.579223</td>\n",
       "      <td>3.410600</td>\n",
       "      <td>0.407531</td>\n",
       "    </tr>\n",
       "    <tr>\n",
       "      <th rowspan=\"5\" valign=\"top\">Stepper</th>\n",
       "      <th>base</th>\n",
       "      <td>43.284970</td>\n",
       "      <td>9.305110</td>\n",
       "      <td>NaN</td>\n",
       "    </tr>\n",
       "    <tr>\n",
       "      <th>loss</th>\n",
       "      <td>6.986840</td>\n",
       "      <td>7.749153</td>\n",
       "      <td>0.460032</td>\n",
       "    </tr>\n",
       "    <tr>\n",
       "      <th>net</th>\n",
       "      <td>28.619445</td>\n",
       "      <td>7.845281</td>\n",
       "      <td>0.651505</td>\n",
       "    </tr>\n",
       "    <tr>\n",
       "      <th>phase</th>\n",
       "      <td>4.116924</td>\n",
       "      <td>7.576145</td>\n",
       "      <td>0.493522</td>\n",
       "    </tr>\n",
       "    <tr>\n",
       "      <th>traj</th>\n",
       "      <td>7.537553</td>\n",
       "      <td>9.993236</td>\n",
       "      <td>0.569378</td>\n",
       "    </tr>\n",
       "    <tr>\n",
       "      <th rowspan=\"7\" valign=\"top\">Walker2D</th>\n",
       "      <th>base</th>\n",
       "      <td>3.974152</td>\n",
       "      <td>2.246567</td>\n",
       "      <td>1.058347</td>\n",
       "    </tr>\n",
       "    <tr>\n",
       "      <th>loss</th>\n",
       "      <td>2.562192</td>\n",
       "      <td>1.982518</td>\n",
       "      <td>0.329640</td>\n",
       "    </tr>\n",
       "    <tr>\n",
       "      <th>net</th>\n",
       "      <td>1.995587</td>\n",
       "      <td>1.574112</td>\n",
       "      <td>0.163102</td>\n",
       "    </tr>\n",
       "    <tr>\n",
       "      <th>net2</th>\n",
       "      <td>1.042046</td>\n",
       "      <td>1.440361</td>\n",
       "      <td>0.155714</td>\n",
       "    </tr>\n",
       "    <tr>\n",
       "      <th>phase</th>\n",
       "      <td>3.765920</td>\n",
       "      <td>1.664447</td>\n",
       "      <td>0.568004</td>\n",
       "    </tr>\n",
       "    <tr>\n",
       "      <th>traj</th>\n",
       "      <td>3.771923</td>\n",
       "      <td>2.070963</td>\n",
       "      <td>0.386522</td>\n",
       "    </tr>\n",
       "    <tr>\n",
       "      <th>vnet-ablation</th>\n",
       "      <td>1.712154</td>\n",
       "      <td>2.059981</td>\n",
       "      <td>0.281711</td>\n",
       "    </tr>\n",
       "    <tr>\n",
       "      <th rowspan=\"5\" valign=\"top\">Walker3D</th>\n",
       "      <th>base</th>\n",
       "      <td>6.360660</td>\n",
       "      <td>9.435592</td>\n",
       "      <td>2.158601</td>\n",
       "    </tr>\n",
       "    <tr>\n",
       "      <th>loss</th>\n",
       "      <td>4.476573</td>\n",
       "      <td>8.648449</td>\n",
       "      <td>0.190944</td>\n",
       "    </tr>\n",
       "    <tr>\n",
       "      <th>net</th>\n",
       "      <td>10.640659</td>\n",
       "      <td>7.970555</td>\n",
       "      <td>0.577831</td>\n",
       "    </tr>\n",
       "    <tr>\n",
       "      <th>phase</th>\n",
       "      <td>2.546563</td>\n",
       "      <td>7.659407</td>\n",
       "      <td>0.302829</td>\n",
       "    </tr>\n",
       "    <tr>\n",
       "      <th>traj</th>\n",
       "      <td>7.568836</td>\n",
       "      <td>10.815405</td>\n",
       "      <td>1.609499</td>\n",
       "    </tr>\n",
       "  </tbody>\n",
       "</table>\n",
       "</div>"
      ],
      "text/plain": [
       "                           torque  joint_angle  phase_plot_index\n",
       "env      method                                                 \n",
       "Cassie   base            9.271694     2.968138          0.491794\n",
       "         loss           15.715926     0.829299          0.313058\n",
       "         net             5.145445     0.865306          0.226094\n",
       "         phase           4.485516     0.357746          0.169372\n",
       "         traj            6.579223     3.410600          0.407531\n",
       "Stepper  base           43.284970     9.305110               NaN\n",
       "         loss            6.986840     7.749153          0.460032\n",
       "         net            28.619445     7.845281          0.651505\n",
       "         phase           4.116924     7.576145          0.493522\n",
       "         traj            7.537553     9.993236          0.569378\n",
       "Walker2D base            3.974152     2.246567          1.058347\n",
       "         loss            2.562192     1.982518          0.329640\n",
       "         net             1.995587     1.574112          0.163102\n",
       "         net2            1.042046     1.440361          0.155714\n",
       "         phase           3.765920     1.664447          0.568004\n",
       "         traj            3.771923     2.070963          0.386522\n",
       "         vnet-ablation   1.712154     2.059981          0.281711\n",
       "Walker3D base            6.360660     9.435592          2.158601\n",
       "         loss            4.476573     8.648449          0.190944\n",
       "         net            10.640659     7.970555          0.577831\n",
       "         phase           2.546563     7.659407          0.302829\n",
       "         traj            7.568836    10.815405          1.609499"
      ]
     },
     "execution_count": 180,
     "metadata": {},
     "output_type": "execute_result"
    }
   ],
   "source": [
    "df.groupby(['env', 'method']).mean()"
   ]
  },
  {
   "cell_type": "code",
   "execution_count": 181,
   "metadata": {},
   "outputs": [],
   "source": [
    "df_mean = df.dropna().groupby(['env', 'method'], as_index=False).mean()"
   ]
  },
  {
   "cell_type": "code",
   "execution_count": 182,
   "metadata": {},
   "outputs": [
    {
     "name": "stdout",
     "output_type": "stream",
     "text": [
      "{'Walker3D', 'Stepper', 'Walker2D', 'Cassie'} {'base', 'vnet-ablation', 'traj', 'phase', 'loss', 'net', 'net2'}\n"
     ]
    },
    {
     "data": {
      "text/plain": [
       "1.9955870985984803"
      ]
     },
     "execution_count": 182,
     "metadata": {},
     "output_type": "execute_result"
    }
   ],
   "source": [
    "print(set(df_mean['env']), set(df_mean['method']))\n",
    "\n",
    "df_mean[(df_mean['env'] == 'Walker2D') & (df_mean['method'] == 'net')]['torque'].item()\n",
    "# df[]"
   ]
  },
  {
   "cell_type": "code",
   "execution_count": 187,
   "metadata": {},
   "outputs": [
    {
     "name": "stdout",
     "output_type": "stream",
     "text": [
      "-------------\n",
      "torque\n",
      "& Walker2D & Walker3D & Stepper & Cassie  \\\\\n",
      "\\hline\n",
      "BASE & 3.97 & 6.36 & 0.00 & 9.27   \\\\\n",
      "DUP & 3.77 & 7.57 & 7.54 & 6.58   \\\\\n",
      "LOSS & 2.56 & 4.48 & 6.36 & 15.72   \\\\\n",
      "NET & 2.00 & 10.64 & 28.97 & 5.15   \\\\\n",
      "PHASE & 3.77 & 2.55 & 3.99 & 4.49   \\\\\n",
      "NET-ALT & 1.04 & 0.00 & 0.00 & 0.00   \\\\\n",
      "NET-POL & 1.71 & 0.00 & 0.00 & 0.00   \\\\\n",
      "-------------\n",
      "joint_angle\n",
      "& Walker2D & Walker3D & Stepper & Cassie  \\\\\n",
      "\\hline\n",
      "BASE & 2.25 & 9.44 & 0.00 & 2.97   \\\\\n",
      "DUP & 2.07 & 10.82 & 9.99 & 3.41   \\\\\n",
      "LOSS & 1.98 & 8.65 & 7.29 & 0.83   \\\\\n",
      "NET & 1.57 & 7.97 & 7.81 & 0.87   \\\\\n",
      "PHASE & 1.66 & 7.66 & 6.76 & 0.36   \\\\\n",
      "NET-ALT & 1.44 & 0.00 & 0.00 & 0.00   \\\\\n",
      "NET-POL & 2.06 & 0.00 & 0.00 & 0.00   \\\\\n",
      "-------------\n",
      "phase_plot_index\n",
      "& Walker2D & Walker3D & Stepper & Cassie  \\\\\n",
      "\\hline\n",
      "BASE & 1.06 & 2.16 & 0.00 & 0.49   \\\\\n",
      "DUP & 0.39 & 1.61 & 0.57 & 0.41   \\\\\n",
      "LOSS & 0.33 & 0.19 & 0.46 & 0.31   \\\\\n",
      "NET & 0.16 & 0.58 & 0.65 & 0.23   \\\\\n",
      "PHASE & 0.57 & 0.30 & 0.49 & 0.17   \\\\\n",
      "NET-ALT & 0.16 & 0.00 & 0.00 & 0.00   \\\\\n",
      "NET-POL & 0.28 & 0.00 & 0.00 & 0.00   \\\\\n"
     ]
    }
   ],
   "source": [
    "method_map = {\n",
    "    'base': 'BASE',\n",
    "    'loss': 'LOSS',\n",
    "    'net': 'NET',\n",
    "    'phase': 'PHASE',\n",
    "    'traj': 'DUP',\n",
    "    'net2': 'NET-ALT',\n",
    "    'vnet-ablation': 'NET-POL',\n",
    "}\n",
    "\n",
    "methods = ['base', 'traj', 'loss', 'net', 'phase', 'net2' , 'vnet-ablation']\n",
    "metrics = ['torque', 'joint_angle', 'phase_plot_index']\n",
    "envs = ['Walker2D', 'Walker3D', 'Stepper', 'Cassie']\n",
    "\n",
    "tdata = np.zeros((len(metrics), len(methods), len(envs),))\n",
    "\n",
    "for i, m in enumerate(metrics):\n",
    "    for r in range(len(df_mean)):\n",
    "        tdata[i, methods.index(df_mean['method'][r]), envs.index(df_mean['env'][r])] = df_mean[m][r]\n",
    "\n",
    "\n",
    "for i, m in enumerate(metrics):\n",
    "    print('-------------')\n",
    "    print(m)\n",
    "    print('& ' + ' & '.join([x for x in envs]) + r'  \\\\')\n",
    "    print('\\hline')\n",
    "    for j, method in enumerate(methods):\n",
    "        print(' & '.join([method_map[method]] + [('%.2f' % x) for x in tdata[i,j]]) + r'   \\\\')"
   ]
  },
  {
   "cell_type": "code",
   "execution_count": 78,
   "metadata": {},
   "outputs": [
    {
     "ename": "TypeError",
     "evalue": "'float' object is not callable",
     "output_type": "error",
     "traceback": [
      "\u001b[0;31m---------------------------------------------------------------------------\u001b[0m",
      "\u001b[0;31mTypeError\u001b[0m                                 Traceback (most recent call last)",
      "\u001b[0;32m<ipython-input-78-ec4fe45f7750>\u001b[0m in \u001b[0;36m<module>\u001b[0;34m\u001b[0m\n\u001b[0;32m----> 1\u001b[0;31m \u001b[0mnp\u001b[0m\u001b[0;34m.\u001b[0m\u001b[0mnan\u001b[0m\u001b[0;34m(\u001b[0m\u001b[0;36m10\u001b[0m\u001b[0;34m)\u001b[0m\u001b[0;34m\u001b[0m\u001b[0;34m\u001b[0m\u001b[0m\n\u001b[0m",
      "\u001b[0;31mTypeError\u001b[0m: 'float' object is not callable"
     ]
    }
   ],
   "source": []
  },
  {
   "cell_type": "code",
   "execution_count": null,
   "metadata": {},
   "outputs": [],
   "source": []
  }
 ],
 "metadata": {
  "kernelspec": {
   "display_name": "Python 3",
   "language": "python",
   "name": "python3"
  },
  "language_info": {
   "codemirror_mode": {
    "name": "ipython",
    "version": 3
   },
   "file_extension": ".py",
   "mimetype": "text/x-python",
   "name": "python",
   "nbconvert_exporter": "python",
   "pygments_lexer": "ipython3",
   "version": "3.5.2"
  }
 },
 "nbformat": 4,
 "nbformat_minor": 2
}
